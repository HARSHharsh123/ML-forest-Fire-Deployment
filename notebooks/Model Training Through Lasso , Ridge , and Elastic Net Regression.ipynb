{
 "cells": [
  {
   "cell_type": "code",
   "execution_count": 26,
   "id": "c2378377",
   "metadata": {},
   "outputs": [],
   "source": [
    "import pandas as pd\n",
    "import numpy as np\n",
    "import seaborn as sns\n",
    "import matplotlib.pyplot as plt\n",
    "import warnings\n",
    "warnings.filterwarnings('ignore' , message = 'bhag yaha se')"
   ]
  },
  {
   "cell_type": "code",
   "execution_count": 27,
   "id": "7502c8bb",
   "metadata": {},
   "outputs": [],
   "source": [
    "df = pd.read_csv(\"C:\\\\Users\\\\hs081\\\\Downloads\\\\Alegerian Fire Dataset Cleaned.csv\")"
   ]
  },
  {
   "cell_type": "code",
   "execution_count": 28,
   "id": "5c061b5a",
   "metadata": {},
   "outputs": [
    {
     "data": {
      "text/html": [
       "<div>\n",
       "<style scoped>\n",
       "    .dataframe tbody tr th:only-of-type {\n",
       "        vertical-align: middle;\n",
       "    }\n",
       "\n",
       "    .dataframe tbody tr th {\n",
       "        vertical-align: top;\n",
       "    }\n",
       "\n",
       "    .dataframe thead th {\n",
       "        text-align: right;\n",
       "    }\n",
       "</style>\n",
       "<table border=\"1\" class=\"dataframe\">\n",
       "  <thead>\n",
       "    <tr style=\"text-align: right;\">\n",
       "      <th></th>\n",
       "      <th>day</th>\n",
       "      <th>month</th>\n",
       "      <th>year</th>\n",
       "      <th>Temperature</th>\n",
       "      <th>RH</th>\n",
       "      <th>Ws</th>\n",
       "      <th>Rain</th>\n",
       "      <th>FFMC</th>\n",
       "      <th>DMC</th>\n",
       "      <th>DC</th>\n",
       "      <th>ISI</th>\n",
       "      <th>BUI</th>\n",
       "      <th>FWI</th>\n",
       "      <th>Classes</th>\n",
       "      <th>Region</th>\n",
       "    </tr>\n",
       "  </thead>\n",
       "  <tbody>\n",
       "    <tr>\n",
       "      <th>0</th>\n",
       "      <td>1</td>\n",
       "      <td>6</td>\n",
       "      <td>2012</td>\n",
       "      <td>29</td>\n",
       "      <td>57</td>\n",
       "      <td>18</td>\n",
       "      <td>0.0</td>\n",
       "      <td>65.7</td>\n",
       "      <td>3.4</td>\n",
       "      <td>7.6</td>\n",
       "      <td>1.3</td>\n",
       "      <td>3.4</td>\n",
       "      <td>0.5</td>\n",
       "      <td>0</td>\n",
       "      <td>1</td>\n",
       "    </tr>\n",
       "    <tr>\n",
       "      <th>1</th>\n",
       "      <td>2</td>\n",
       "      <td>6</td>\n",
       "      <td>2012</td>\n",
       "      <td>29</td>\n",
       "      <td>61</td>\n",
       "      <td>13</td>\n",
       "      <td>1.3</td>\n",
       "      <td>64.4</td>\n",
       "      <td>4.1</td>\n",
       "      <td>7.6</td>\n",
       "      <td>1.0</td>\n",
       "      <td>3.9</td>\n",
       "      <td>0.4</td>\n",
       "      <td>0</td>\n",
       "      <td>1</td>\n",
       "    </tr>\n",
       "    <tr>\n",
       "      <th>2</th>\n",
       "      <td>3</td>\n",
       "      <td>6</td>\n",
       "      <td>2012</td>\n",
       "      <td>26</td>\n",
       "      <td>82</td>\n",
       "      <td>22</td>\n",
       "      <td>13.1</td>\n",
       "      <td>47.1</td>\n",
       "      <td>2.5</td>\n",
       "      <td>7.1</td>\n",
       "      <td>0.3</td>\n",
       "      <td>2.7</td>\n",
       "      <td>0.1</td>\n",
       "      <td>0</td>\n",
       "      <td>1</td>\n",
       "    </tr>\n",
       "    <tr>\n",
       "      <th>3</th>\n",
       "      <td>4</td>\n",
       "      <td>6</td>\n",
       "      <td>2012</td>\n",
       "      <td>25</td>\n",
       "      <td>89</td>\n",
       "      <td>13</td>\n",
       "      <td>2.5</td>\n",
       "      <td>28.6</td>\n",
       "      <td>1.3</td>\n",
       "      <td>6.9</td>\n",
       "      <td>0.0</td>\n",
       "      <td>1.7</td>\n",
       "      <td>0.0</td>\n",
       "      <td>0</td>\n",
       "      <td>1</td>\n",
       "    </tr>\n",
       "    <tr>\n",
       "      <th>4</th>\n",
       "      <td>5</td>\n",
       "      <td>6</td>\n",
       "      <td>2012</td>\n",
       "      <td>27</td>\n",
       "      <td>77</td>\n",
       "      <td>16</td>\n",
       "      <td>0.0</td>\n",
       "      <td>64.8</td>\n",
       "      <td>3.0</td>\n",
       "      <td>14.2</td>\n",
       "      <td>1.2</td>\n",
       "      <td>3.9</td>\n",
       "      <td>0.5</td>\n",
       "      <td>0</td>\n",
       "      <td>1</td>\n",
       "    </tr>\n",
       "  </tbody>\n",
       "</table>\n",
       "</div>"
      ],
      "text/plain": [
       "   day  month  year  Temperature  RH  Ws  Rain  FFMC  DMC    DC  ISI  BUI  \\\n",
       "0    1      6  2012           29  57  18   0.0  65.7  3.4   7.6  1.3  3.4   \n",
       "1    2      6  2012           29  61  13   1.3  64.4  4.1   7.6  1.0  3.9   \n",
       "2    3      6  2012           26  82  22  13.1  47.1  2.5   7.1  0.3  2.7   \n",
       "3    4      6  2012           25  89  13   2.5  28.6  1.3   6.9  0.0  1.7   \n",
       "4    5      6  2012           27  77  16   0.0  64.8  3.0  14.2  1.2  3.9   \n",
       "\n",
       "   FWI  Classes  Region  \n",
       "0  0.5        0       1  \n",
       "1  0.4        0       1  \n",
       "2  0.1        0       1  \n",
       "3  0.0        0       1  \n",
       "4  0.5        0       1  "
      ]
     },
     "execution_count": 28,
     "metadata": {},
     "output_type": "execute_result"
    }
   ],
   "source": [
    "df.head()"
   ]
  },
  {
   "cell_type": "code",
   "execution_count": 29,
   "id": "a7cafefb",
   "metadata": {},
   "outputs": [],
   "source": [
    "df.drop(['day' , 'month' , 'year'] , axis = 1 , inplace = True)"
   ]
  },
  {
   "cell_type": "code",
   "execution_count": 30,
   "id": "7a327774",
   "metadata": {},
   "outputs": [
    {
     "data": {
      "text/html": [
       "<div>\n",
       "<style scoped>\n",
       "    .dataframe tbody tr th:only-of-type {\n",
       "        vertical-align: middle;\n",
       "    }\n",
       "\n",
       "    .dataframe tbody tr th {\n",
       "        vertical-align: top;\n",
       "    }\n",
       "\n",
       "    .dataframe thead th {\n",
       "        text-align: right;\n",
       "    }\n",
       "</style>\n",
       "<table border=\"1\" class=\"dataframe\">\n",
       "  <thead>\n",
       "    <tr style=\"text-align: right;\">\n",
       "      <th></th>\n",
       "      <th>Temperature</th>\n",
       "      <th>RH</th>\n",
       "      <th>Ws</th>\n",
       "      <th>Rain</th>\n",
       "      <th>FFMC</th>\n",
       "      <th>DMC</th>\n",
       "      <th>DC</th>\n",
       "      <th>ISI</th>\n",
       "      <th>BUI</th>\n",
       "      <th>FWI</th>\n",
       "      <th>Classes</th>\n",
       "      <th>Region</th>\n",
       "    </tr>\n",
       "  </thead>\n",
       "  <tbody>\n",
       "    <tr>\n",
       "      <th>0</th>\n",
       "      <td>29</td>\n",
       "      <td>57</td>\n",
       "      <td>18</td>\n",
       "      <td>0.0</td>\n",
       "      <td>65.7</td>\n",
       "      <td>3.4</td>\n",
       "      <td>7.6</td>\n",
       "      <td>1.3</td>\n",
       "      <td>3.4</td>\n",
       "      <td>0.5</td>\n",
       "      <td>0</td>\n",
       "      <td>1</td>\n",
       "    </tr>\n",
       "    <tr>\n",
       "      <th>1</th>\n",
       "      <td>29</td>\n",
       "      <td>61</td>\n",
       "      <td>13</td>\n",
       "      <td>1.3</td>\n",
       "      <td>64.4</td>\n",
       "      <td>4.1</td>\n",
       "      <td>7.6</td>\n",
       "      <td>1.0</td>\n",
       "      <td>3.9</td>\n",
       "      <td>0.4</td>\n",
       "      <td>0</td>\n",
       "      <td>1</td>\n",
       "    </tr>\n",
       "    <tr>\n",
       "      <th>2</th>\n",
       "      <td>26</td>\n",
       "      <td>82</td>\n",
       "      <td>22</td>\n",
       "      <td>13.1</td>\n",
       "      <td>47.1</td>\n",
       "      <td>2.5</td>\n",
       "      <td>7.1</td>\n",
       "      <td>0.3</td>\n",
       "      <td>2.7</td>\n",
       "      <td>0.1</td>\n",
       "      <td>0</td>\n",
       "      <td>1</td>\n",
       "    </tr>\n",
       "    <tr>\n",
       "      <th>3</th>\n",
       "      <td>25</td>\n",
       "      <td>89</td>\n",
       "      <td>13</td>\n",
       "      <td>2.5</td>\n",
       "      <td>28.6</td>\n",
       "      <td>1.3</td>\n",
       "      <td>6.9</td>\n",
       "      <td>0.0</td>\n",
       "      <td>1.7</td>\n",
       "      <td>0.0</td>\n",
       "      <td>0</td>\n",
       "      <td>1</td>\n",
       "    </tr>\n",
       "    <tr>\n",
       "      <th>4</th>\n",
       "      <td>27</td>\n",
       "      <td>77</td>\n",
       "      <td>16</td>\n",
       "      <td>0.0</td>\n",
       "      <td>64.8</td>\n",
       "      <td>3.0</td>\n",
       "      <td>14.2</td>\n",
       "      <td>1.2</td>\n",
       "      <td>3.9</td>\n",
       "      <td>0.5</td>\n",
       "      <td>0</td>\n",
       "      <td>1</td>\n",
       "    </tr>\n",
       "  </tbody>\n",
       "</table>\n",
       "</div>"
      ],
      "text/plain": [
       "   Temperature  RH  Ws  Rain  FFMC  DMC    DC  ISI  BUI  FWI  Classes  Region\n",
       "0           29  57  18   0.0  65.7  3.4   7.6  1.3  3.4  0.5        0       1\n",
       "1           29  61  13   1.3  64.4  4.1   7.6  1.0  3.9  0.4        0       1\n",
       "2           26  82  22  13.1  47.1  2.5   7.1  0.3  2.7  0.1        0       1\n",
       "3           25  89  13   2.5  28.6  1.3   6.9  0.0  1.7  0.0        0       1\n",
       "4           27  77  16   0.0  64.8  3.0  14.2  1.2  3.9  0.5        0       1"
      ]
     },
     "execution_count": 30,
     "metadata": {},
     "output_type": "execute_result"
    }
   ],
   "source": [
    "df.head()"
   ]
  },
  {
   "cell_type": "code",
   "execution_count": 31,
   "id": "7b0035e7",
   "metadata": {},
   "outputs": [
    {
     "data": {
      "text/plain": [
       "Temperature      int64\n",
       "RH               int64\n",
       "Ws               int64\n",
       "Rain           float64\n",
       "FFMC           float64\n",
       "DMC            float64\n",
       "DC             float64\n",
       "ISI            float64\n",
       "BUI            float64\n",
       "FWI            float64\n",
       "Classes          int64\n",
       "Region           int64\n",
       "dtype: object"
      ]
     },
     "execution_count": 31,
     "metadata": {},
     "output_type": "execute_result"
    }
   ],
   "source": [
    "df.dtypes"
   ]
  },
  {
   "cell_type": "code",
   "execution_count": 32,
   "id": "15b29396",
   "metadata": {},
   "outputs": [],
   "source": [
    "X = df.drop('FWI' , axis = 1)\n",
    "y = df['FWI']"
   ]
  },
  {
   "cell_type": "code",
   "execution_count": 33,
   "id": "18306e75",
   "metadata": {},
   "outputs": [],
   "source": [
    "from sklearn.model_selection import train_test_split"
   ]
  },
  {
   "cell_type": "code",
   "execution_count": 34,
   "id": "2dcb3be6",
   "metadata": {},
   "outputs": [],
   "source": [
    "X_train , X_test , y_train , y_test = train_test_split(X , y , test_size = 0.28 , random_state=90)"
   ]
  },
  {
   "cell_type": "code",
   "execution_count": 35,
   "id": "fc68ca38",
   "metadata": {},
   "outputs": [
    {
     "data": {
      "text/plain": [
       "((174, 11), (69, 11), (174,), (69,))"
      ]
     },
     "execution_count": 35,
     "metadata": {},
     "output_type": "execute_result"
    }
   ],
   "source": [
    "X_train.shape,X_test.shape,y_train.shape,y_test.shape"
   ]
  },
  {
   "cell_type": "code",
   "execution_count": 36,
   "id": "b1e95042",
   "metadata": {
    "scrolled": true
   },
   "outputs": [
    {
     "data": {
      "text/html": [
       "<div>\n",
       "<style scoped>\n",
       "    .dataframe tbody tr th:only-of-type {\n",
       "        vertical-align: middle;\n",
       "    }\n",
       "\n",
       "    .dataframe tbody tr th {\n",
       "        vertical-align: top;\n",
       "    }\n",
       "\n",
       "    .dataframe thead th {\n",
       "        text-align: right;\n",
       "    }\n",
       "</style>\n",
       "<table border=\"1\" class=\"dataframe\">\n",
       "  <thead>\n",
       "    <tr style=\"text-align: right;\">\n",
       "      <th></th>\n",
       "      <th>Temperature</th>\n",
       "      <th>RH</th>\n",
       "      <th>Ws</th>\n",
       "      <th>Rain</th>\n",
       "      <th>FFMC</th>\n",
       "      <th>DMC</th>\n",
       "      <th>DC</th>\n",
       "      <th>ISI</th>\n",
       "      <th>BUI</th>\n",
       "      <th>Classes</th>\n",
       "      <th>Region</th>\n",
       "    </tr>\n",
       "  </thead>\n",
       "  <tbody>\n",
       "    <tr>\n",
       "      <th>Temperature</th>\n",
       "      <td>1.000000</td>\n",
       "      <td>-0.660912</td>\n",
       "      <td>-0.217770</td>\n",
       "      <td>-0.331452</td>\n",
       "      <td>0.731625</td>\n",
       "      <td>0.472225</td>\n",
       "      <td>0.397543</td>\n",
       "      <td>0.622770</td>\n",
       "      <td>0.455103</td>\n",
       "      <td>0.535912</td>\n",
       "      <td>-0.293164</td>\n",
       "    </tr>\n",
       "    <tr>\n",
       "      <th>RH</th>\n",
       "      <td>-0.660912</td>\n",
       "      <td>1.000000</td>\n",
       "      <td>0.259128</td>\n",
       "      <td>0.215167</td>\n",
       "      <td>-0.609127</td>\n",
       "      <td>-0.378371</td>\n",
       "      <td>-0.230736</td>\n",
       "      <td>-0.665592</td>\n",
       "      <td>-0.331370</td>\n",
       "      <td>-0.403089</td>\n",
       "      <td>0.442390</td>\n",
       "    </tr>\n",
       "    <tr>\n",
       "      <th>Ws</th>\n",
       "      <td>-0.217770</td>\n",
       "      <td>0.259128</td>\n",
       "      <td>1.000000</td>\n",
       "      <td>0.167612</td>\n",
       "      <td>-0.132132</td>\n",
       "      <td>0.008713</td>\n",
       "      <td>0.065508</td>\n",
       "      <td>0.002739</td>\n",
       "      <td>0.035277</td>\n",
       "      <td>-0.046489</td>\n",
       "      <td>0.239408</td>\n",
       "    </tr>\n",
       "    <tr>\n",
       "      <th>Rain</th>\n",
       "      <td>-0.331452</td>\n",
       "      <td>0.215167</td>\n",
       "      <td>0.167612</td>\n",
       "      <td>1.000000</td>\n",
       "      <td>-0.561032</td>\n",
       "      <td>-0.267057</td>\n",
       "      <td>-0.297606</td>\n",
       "      <td>-0.332590</td>\n",
       "      <td>-0.282873</td>\n",
       "      <td>-0.356719</td>\n",
       "      <td>0.036053</td>\n",
       "    </tr>\n",
       "    <tr>\n",
       "      <th>FFMC</th>\n",
       "      <td>0.731625</td>\n",
       "      <td>-0.609127</td>\n",
       "      <td>-0.132132</td>\n",
       "      <td>-0.561032</td>\n",
       "      <td>1.000000</td>\n",
       "      <td>0.585077</td>\n",
       "      <td>0.522056</td>\n",
       "      <td>0.727657</td>\n",
       "      <td>0.582048</td>\n",
       "      <td>0.754389</td>\n",
       "      <td>-0.241262</td>\n",
       "    </tr>\n",
       "    <tr>\n",
       "      <th>DMC</th>\n",
       "      <td>0.472225</td>\n",
       "      <td>-0.378371</td>\n",
       "      <td>0.008713</td>\n",
       "      <td>-0.267057</td>\n",
       "      <td>0.585077</td>\n",
       "      <td>1.000000</td>\n",
       "      <td>0.894209</td>\n",
       "      <td>0.684649</td>\n",
       "      <td>0.984115</td>\n",
       "      <td>0.567637</td>\n",
       "      <td>-0.223148</td>\n",
       "    </tr>\n",
       "    <tr>\n",
       "      <th>DC</th>\n",
       "      <td>0.397543</td>\n",
       "      <td>-0.230736</td>\n",
       "      <td>0.065508</td>\n",
       "      <td>-0.297606</td>\n",
       "      <td>0.522056</td>\n",
       "      <td>0.894209</td>\n",
       "      <td>1.000000</td>\n",
       "      <td>0.540179</td>\n",
       "      <td>0.948496</td>\n",
       "      <td>0.531556</td>\n",
       "      <td>0.039749</td>\n",
       "    </tr>\n",
       "    <tr>\n",
       "      <th>ISI</th>\n",
       "      <td>0.622770</td>\n",
       "      <td>-0.665592</td>\n",
       "      <td>0.002739</td>\n",
       "      <td>-0.332590</td>\n",
       "      <td>0.727657</td>\n",
       "      <td>0.684649</td>\n",
       "      <td>0.540179</td>\n",
       "      <td>1.000000</td>\n",
       "      <td>0.655877</td>\n",
       "      <td>0.714958</td>\n",
       "      <td>-0.276312</td>\n",
       "    </tr>\n",
       "    <tr>\n",
       "      <th>BUI</th>\n",
       "      <td>0.455103</td>\n",
       "      <td>-0.331370</td>\n",
       "      <td>0.035277</td>\n",
       "      <td>-0.282873</td>\n",
       "      <td>0.582048</td>\n",
       "      <td>0.984115</td>\n",
       "      <td>0.948496</td>\n",
       "      <td>0.655877</td>\n",
       "      <td>1.000000</td>\n",
       "      <td>0.580725</td>\n",
       "      <td>-0.123258</td>\n",
       "    </tr>\n",
       "    <tr>\n",
       "      <th>Classes</th>\n",
       "      <td>0.535912</td>\n",
       "      <td>-0.403089</td>\n",
       "      <td>-0.046489</td>\n",
       "      <td>-0.356719</td>\n",
       "      <td>0.754389</td>\n",
       "      <td>0.567637</td>\n",
       "      <td>0.531556</td>\n",
       "      <td>0.714958</td>\n",
       "      <td>0.580725</td>\n",
       "      <td>1.000000</td>\n",
       "      <td>-0.155122</td>\n",
       "    </tr>\n",
       "    <tr>\n",
       "      <th>Region</th>\n",
       "      <td>-0.293164</td>\n",
       "      <td>0.442390</td>\n",
       "      <td>0.239408</td>\n",
       "      <td>0.036053</td>\n",
       "      <td>-0.241262</td>\n",
       "      <td>-0.223148</td>\n",
       "      <td>0.039749</td>\n",
       "      <td>-0.276312</td>\n",
       "      <td>-0.123258</td>\n",
       "      <td>-0.155122</td>\n",
       "      <td>1.000000</td>\n",
       "    </tr>\n",
       "  </tbody>\n",
       "</table>\n",
       "</div>"
      ],
      "text/plain": [
       "             Temperature        RH        Ws      Rain      FFMC       DMC  \\\n",
       "Temperature     1.000000 -0.660912 -0.217770 -0.331452  0.731625  0.472225   \n",
       "RH             -0.660912  1.000000  0.259128  0.215167 -0.609127 -0.378371   \n",
       "Ws             -0.217770  0.259128  1.000000  0.167612 -0.132132  0.008713   \n",
       "Rain           -0.331452  0.215167  0.167612  1.000000 -0.561032 -0.267057   \n",
       "FFMC            0.731625 -0.609127 -0.132132 -0.561032  1.000000  0.585077   \n",
       "DMC             0.472225 -0.378371  0.008713 -0.267057  0.585077  1.000000   \n",
       "DC              0.397543 -0.230736  0.065508 -0.297606  0.522056  0.894209   \n",
       "ISI             0.622770 -0.665592  0.002739 -0.332590  0.727657  0.684649   \n",
       "BUI             0.455103 -0.331370  0.035277 -0.282873  0.582048  0.984115   \n",
       "Classes         0.535912 -0.403089 -0.046489 -0.356719  0.754389  0.567637   \n",
       "Region         -0.293164  0.442390  0.239408  0.036053 -0.241262 -0.223148   \n",
       "\n",
       "                   DC       ISI       BUI   Classes    Region  \n",
       "Temperature  0.397543  0.622770  0.455103  0.535912 -0.293164  \n",
       "RH          -0.230736 -0.665592 -0.331370 -0.403089  0.442390  \n",
       "Ws           0.065508  0.002739  0.035277 -0.046489  0.239408  \n",
       "Rain        -0.297606 -0.332590 -0.282873 -0.356719  0.036053  \n",
       "FFMC         0.522056  0.727657  0.582048  0.754389 -0.241262  \n",
       "DMC          0.894209  0.684649  0.984115  0.567637 -0.223148  \n",
       "DC           1.000000  0.540179  0.948496  0.531556  0.039749  \n",
       "ISI          0.540179  1.000000  0.655877  0.714958 -0.276312  \n",
       "BUI          0.948496  0.655877  1.000000  0.580725 -0.123258  \n",
       "Classes      0.531556  0.714958  0.580725  1.000000 -0.155122  \n",
       "Region       0.039749 -0.276312 -0.123258 -0.155122  1.000000  "
      ]
     },
     "execution_count": 36,
     "metadata": {},
     "output_type": "execute_result"
    }
   ],
   "source": [
    "X_train.corr()"
   ]
  },
  {
   "cell_type": "code",
   "execution_count": 37,
   "id": "56c9a057",
   "metadata": {},
   "outputs": [],
   "source": [
    "#Feature Selection"
   ]
  },
  {
   "cell_type": "code",
   "execution_count": 38,
   "id": "0d592fa2",
   "metadata": {},
   "outputs": [
    {
     "data": {
      "text/plain": [
       "<AxesSubplot:>"
      ]
     },
     "execution_count": 38,
     "metadata": {},
     "output_type": "execute_result"
    },
    {
     "data": {
      "image/png": "[encoded data removed]",
      "text/plain": [
       "<Figure size 1500x700 with 2 Axes>"
      ]
     },
     "metadata": {},
     "output_type": "display_data"
    }
   ],
   "source": [
    "plt.figure(figsize=(15,7))\n",
    "sns.heatmap(X_train.corr() , annot = True)"
   ]
  },
  {
   "cell_type": "code",
   "execution_count": 39,
   "id": "8aba1598",
   "metadata": {},
   "outputs": [],
   "source": [
    "def correlation(dataset , threshold):\n",
    "    corr_result = set()\n",
    "    corr_matrix = dataset.corr()\n",
    "    for i in range(len(corr_matrix)):\n",
    "        for j in range(i):\n",
    "            if(corr_matrix.iloc[i ,j] > threshold):\n",
    "                col_name = corr_matrix.columns[i]\n",
    "                corr_result.add(col_name)\n",
    "    return corr_result\n",
    "        "
   ]
  },
  {
   "cell_type": "code",
   "execution_count": 40,
   "id": "ba4f2c95",
   "metadata": {},
   "outputs": [],
   "source": [
    "col_names = correlation(X_train , 0.85)"
   ]
  },
  {
   "cell_type": "code",
   "execution_count": 42,
   "id": "16200eb0",
   "metadata": {},
   "outputs": [
    {
     "data": {
      "text/plain": [
       "{'BUI', 'DC'}"
      ]
     },
     "execution_count": 42,
     "metadata": {},
     "output_type": "execute_result"
    }
   ],
   "source": [
    "col_names"
   ]
  },
  {
   "cell_type": "code",
   "execution_count": 43,
   "id": "721dc006",
   "metadata": {},
   "outputs": [],
   "source": [
    "X_train.drop(col_names , axis =1 , inplace = True)"
   ]
  },
  {
   "cell_type": "code",
   "execution_count": 44,
   "id": "1ae88f97",
   "metadata": {},
   "outputs": [],
   "source": [
    "X_test.drop(col_names , axis = 1 , inplace = True )"
   ]
  },
  {
   "cell_type": "code",
   "execution_count": 45,
   "id": "9d364609",
   "metadata": {},
   "outputs": [
    {
     "data": {
      "text/plain": [
       "((174, 9), (69, 9))"
      ]
     },
     "execution_count": 45,
     "metadata": {},
     "output_type": "execute_result"
    }
   ],
   "source": [
    "X_train.shape , X_test.shape"
   ]
  },
  {
   "cell_type": "code",
   "execution_count": 46,
   "id": "93a243d1",
   "metadata": {},
   "outputs": [],
   "source": [
    "#Standardization"
   ]
  },
  {
   "cell_type": "code",
   "execution_count": 47,
   "id": "99de8358",
   "metadata": {},
   "outputs": [],
   "source": [
    "from sklearn.preprocessing import StandardScaler"
   ]
  },
  {
   "cell_type": "code",
   "execution_count": 48,
   "id": "79730aba",
   "metadata": {},
   "outputs": [],
   "source": [
    "scaler = StandardScaler()"
   ]
  },
  {
   "cell_type": "code",
   "execution_count": 49,
   "id": "c50782b1",
   "metadata": {},
   "outputs": [],
   "source": [
    "X_train_scaled = scaler.fit_transform(X_train)"
   ]
  },
  {
   "cell_type": "code",
   "execution_count": 50,
   "id": "df2b7d37",
   "metadata": {},
   "outputs": [],
   "source": [
    "X_test_scaled = scaler.transform(X_test)"
   ]
  },
  {
   "cell_type": "code",
   "execution_count": 51,
   "id": "b46ef101",
   "metadata": {},
   "outputs": [],
   "source": [
    "#now visualiztion"
   ]
  },
  {
   "cell_type": "code",
   "execution_count": 52,
   "id": "18cd2558",
   "metadata": {},
   "outputs": [
    {
     "data": {
      "text/plain": [
       "<AxesSubplot:>"
      ]
     },
     "execution_count": 52,
     "metadata": {},
     "output_type": "execute_result"
    },
    {
     "data": {
      "image/png": "[encoded data removed]",
      "text/plain": [
       "<Figure size 1200x600 with 2 Axes>"
      ]
     },
     "metadata": {},
     "output_type": "display_data"
    }
   ],
   "source": [
    "plt.style.use('seaborn')\n",
    "plt.subplots(1 ,2 , figsize=(12,6))\n",
    "plt.subplot(1,2,1)\n",
    "sns.boxplot(data = X_train)\n",
    "plt.subplot(1,2,2)\n",
    "sns.boxplot(data = X_train_scaled)"
   ]
  },
  {
   "cell_type": "code",
   "execution_count": 53,
   "id": "defc1af1",
   "metadata": {},
   "outputs": [],
   "source": [
    "#Model Traning by Linear Regresssion"
   ]
  },
  {
   "cell_type": "code",
   "execution_count": 54,
   "id": "8baf7dda",
   "metadata": {},
   "outputs": [],
   "source": [
    "from sklearn.linear_model import LinearRegression"
   ]
  },
  {
   "cell_type": "code",
   "execution_count": 55,
   "id": "37fe308d",
   "metadata": {},
   "outputs": [],
   "source": [
    "regressor = LinearRegression()"
   ]
  },
  {
   "cell_type": "code",
   "execution_count": 56,
   "id": "dd88de93",
   "metadata": {},
   "outputs": [
    {
     "data": {
      "text/plain": [
       "LinearRegression()"
      ]
     },
     "execution_count": 56,
     "metadata": {},
     "output_type": "execute_result"
    }
   ],
   "source": [
    "regressor.fit(X_train_scaled , y_train)"
   ]
  },
  {
   "cell_type": "code",
   "execution_count": 57,
   "id": "a8f2b8a6",
   "metadata": {},
   "outputs": [
    {
     "data": {
      "text/plain": [
       "6.877011494252874"
      ]
     },
     "execution_count": 57,
     "metadata": {},
     "output_type": "execute_result"
    }
   ],
   "source": [
    "regressor.intercept_"
   ]
  },
  {
   "cell_type": "code",
   "execution_count": 58,
   "id": "c9f3d716",
   "metadata": {},
   "outputs": [
    {
     "data": {
      "text/plain": [
       "array([ 0.06279982, -0.22050725,  0.04879463, -0.06500335, -0.84689513,\n",
       "        3.78648976,  4.47913534,  0.39713013,  0.44287974])"
      ]
     },
     "execution_count": 58,
     "metadata": {},
     "output_type": "execute_result"
    }
   ],
   "source": [
    "regressor.coef_"
   ]
  },
  {
   "cell_type": "code",
   "execution_count": 59,
   "id": "12dba804",
   "metadata": {},
   "outputs": [],
   "source": [
    "y_pred = regressor.predict(X_test_scaled)"
   ]
  },
  {
   "cell_type": "code",
   "execution_count": 60,
   "id": "9db31c37",
   "metadata": {},
   "outputs": [
    {
     "data": {
      "text/plain": [
       "array([ 7.68497351, 15.70655026,  0.40132058, 19.51389995,  9.12496739,\n",
       "       12.5321368 ,  5.27877766,  0.82334767, 20.99790144, -0.27629999,\n",
       "        1.30776161,  5.16988469,  9.71239967,  7.79431723, 13.89176454,\n",
       "       13.08845532,  2.64706572,  0.35976717,  1.42244017, -0.49317814,\n",
       "       -0.43631081,  5.01691542, 10.11218741, -0.35821449, 14.54954049,\n",
       "        1.86863578, 17.77643164,  1.91878039,  8.43270467, 11.7529669 ,\n",
       "       10.80706468, 14.35713134, 10.21600984, 20.22626028, -0.15343711,\n",
       "        6.90648456, 11.79458915, -1.01584204,  5.89820617,  0.15052049,\n",
       "       -0.05877835,  7.02716179, 12.30934724,  9.77974112, 21.03609441,\n",
       "        1.72646791,  3.03590768, -0.40059627, 15.34384285, -0.55436197,\n",
       "        4.71230972, -0.35437645, 12.40267076, 17.6764879 ,  1.06143689,\n",
       "       10.30816755,  1.49154076, 17.12551683, -0.32140637,  6.43591828,\n",
       "       29.03742269, -0.39636965,  6.8817004 , -0.23002611, 15.16912863,\n",
       "       -1.05447589,  9.83055408, -0.89253318,  0.43370009])"
      ]
     },
     "execution_count": 60,
     "metadata": {},
     "output_type": "execute_result"
    }
   ],
   "source": [
    "y_pred"
   ]
  },
  {
   "cell_type": "code",
   "execution_count": 61,
   "id": "5387c75b",
   "metadata": {},
   "outputs": [
    {
     "data": {
      "text/plain": [
       "6       7.2\n",
       "212    19.4\n",
       "98      0.6\n",
       "85     20.3\n",
       "227     9.8\n",
       "       ... \n",
       "79     17.2\n",
       "213     0.0\n",
       "110     9.7\n",
       "218     0.4\n",
       "1       0.4\n",
       "Name: FWI, Length: 69, dtype: float64"
      ]
     },
     "execution_count": 61,
     "metadata": {},
     "output_type": "execute_result"
    }
   ],
   "source": [
    "y_test"
   ]
  },
  {
   "cell_type": "code",
   "execution_count": 62,
   "id": "c67ba98b",
   "metadata": {},
   "outputs": [
    {
     "data": {
      "text/plain": [
       "<seaborn.axisgrid.FacetGrid at 0x255adb8c0d0>"
      ]
     },
     "execution_count": 62,
     "metadata": {},
     "output_type": "execute_result"
    },
    {
     "data": {
      "image/png": "[encoded data removed]",
      "text/plain": [
       "<Figure size 500x500 with 1 Axes>"
      ]
     },
     "metadata": {},
     "output_type": "display_data"
    }
   ],
   "source": [
    "sns.displot(y_pred - y_test , kde = True)"
   ]
  },
  {
   "cell_type": "code",
   "execution_count": 63,
   "id": "9b593d94",
   "metadata": {},
   "outputs": [],
   "source": [
    "from sklearn.metrics import mean_absolute_error , mean_squared_error"
   ]
  },
  {
   "cell_type": "code",
   "execution_count": 64,
   "id": "1b0959c7",
   "metadata": {},
   "outputs": [],
   "source": [
    "mse = mean_squared_error(y_test , y_pred)"
   ]
  },
  {
   "cell_type": "code",
   "execution_count": 65,
   "id": "d4c86d7c",
   "metadata": {},
   "outputs": [],
   "source": [
    "mae = mean_absolute_error(y_test , y_pred)"
   ]
  },
  {
   "cell_type": "code",
   "execution_count": 66,
   "id": "2f2defea",
   "metadata": {},
   "outputs": [],
   "source": [
    "rmse = np.sqrt(mse)"
   ]
  },
  {
   "cell_type": "code",
   "execution_count": 67,
   "id": "33c47f6a",
   "metadata": {},
   "outputs": [
    {
     "data": {
      "text/plain": [
       "1.1345160443665656"
      ]
     },
     "execution_count": 67,
     "metadata": {},
     "output_type": "execute_result"
    }
   ],
   "source": [
    "mse "
   ]
  },
  {
   "cell_type": "code",
   "execution_count": 68,
   "id": "ae27a906",
   "metadata": {},
   "outputs": [
    {
     "data": {
      "text/plain": [
       "0.7520173004786866"
      ]
     },
     "execution_count": 68,
     "metadata": {},
     "output_type": "execute_result"
    }
   ],
   "source": [
    "mae"
   ]
  },
  {
   "cell_type": "code",
   "execution_count": 69,
   "id": "a08fed41",
   "metadata": {},
   "outputs": [
    {
     "data": {
      "text/plain": [
       "1.0651366317832496"
      ]
     },
     "execution_count": 69,
     "metadata": {},
     "output_type": "execute_result"
    }
   ],
   "source": [
    "rmse"
   ]
  },
  {
   "cell_type": "code",
   "execution_count": 70,
   "id": "cdcd44d2",
   "metadata": {},
   "outputs": [],
   "source": [
    "from sklearn.metrics import r2_score"
   ]
  },
  {
   "cell_type": "code",
   "execution_count": 71,
   "id": "8e21cf12",
   "metadata": {},
   "outputs": [],
   "source": [
    "score = r2_score(y_test , y_pred)"
   ]
  },
  {
   "cell_type": "code",
   "execution_count": 72,
   "id": "7bda7852",
   "metadata": {},
   "outputs": [
    {
     "data": {
      "text/plain": [
       "0.9787982079056349"
      ]
     },
     "execution_count": 72,
     "metadata": {},
     "output_type": "execute_result"
    }
   ],
   "source": [
    "score"
   ]
  },
  {
   "cell_type": "code",
   "execution_count": 73,
   "id": "bbdfaa2c",
   "metadata": {},
   "outputs": [],
   "source": [
    "score_a = Score_adr = 1 - (1-score)*(len(y_test)-1)/(len(y_test)-X_test.shape[1]-1)"
   ]
  },
  {
   "cell_type": "code",
   "execution_count": 74,
   "id": "b233bfe1",
   "metadata": {},
   "outputs": [
    {
     "data": {
      "text/plain": [
       "0.9755640362302233"
      ]
     },
     "execution_count": 74,
     "metadata": {},
     "output_type": "execute_result"
    }
   ],
   "source": [
    "score_a"
   ]
  },
  {
   "cell_type": "code",
   "execution_count": 75,
   "id": "8b155483",
   "metadata": {},
   "outputs": [],
   "source": [
    "#Lasso Regression"
   ]
  },
  {
   "cell_type": "code",
   "execution_count": 76,
   "id": "c29b0121",
   "metadata": {},
   "outputs": [],
   "source": [
    "from sklearn.linear_model import Lasso"
   ]
  },
  {
   "cell_type": "code",
   "execution_count": 77,
   "id": "09eb15d1",
   "metadata": {},
   "outputs": [],
   "source": [
    "lasso = Lasso()"
   ]
  },
  {
   "cell_type": "code",
   "execution_count": 78,
   "id": "53769f6b",
   "metadata": {},
   "outputs": [
    {
     "data": {
      "text/plain": [
       "Lasso()"
      ]
     },
     "execution_count": 78,
     "metadata": {},
     "output_type": "execute_result"
    }
   ],
   "source": [
    "lasso.fit(X_train_scaled, y_train)"
   ]
  },
  {
   "cell_type": "code",
   "execution_count": 79,
   "id": "5b9c75a8",
   "metadata": {},
   "outputs": [],
   "source": [
    "y_pred = lasso.predict(X_test_scaled)"
   ]
  },
  {
   "cell_type": "code",
   "execution_count": 80,
   "id": "6359a04c",
   "metadata": {},
   "outputs": [
    {
     "data": {
      "text/plain": [
       "<seaborn.axisgrid.FacetGrid at 0x255a6e04100>"
      ]
     },
     "execution_count": 80,
     "metadata": {},
     "output_type": "execute_result"
    },
    {
     "data": {
      "image/png": "[encoded data removed]",
      "text/plain": [
       "<Figure size 500x500 with 1 Axes>"
      ]
     },
     "metadata": {},
     "output_type": "display_data"
    }
   ],
   "source": [
    "sns.displot(y_pred - y_test , kde = True)"
   ]
  },
  {
   "cell_type": "code",
   "execution_count": 81,
   "id": "a5ea7767",
   "metadata": {},
   "outputs": [],
   "source": [
    "mse = mean_squared_error(y_test , y_pred)\n",
    "mae = mean_absolute_error(y_test , y_pred)\n",
    "rmse = np.sqrt(mse)"
   ]
  },
  {
   "cell_type": "code",
   "execution_count": 82,
   "id": "e8131505",
   "metadata": {},
   "outputs": [
    {
     "data": {
      "text/plain": [
       "2.8789911269714117"
      ]
     },
     "execution_count": 82,
     "metadata": {},
     "output_type": "execute_result"
    }
   ],
   "source": [
    "mse"
   ]
  },
  {
   "cell_type": "code",
   "execution_count": 83,
   "id": "55223349",
   "metadata": {},
   "outputs": [
    {
     "data": {
      "text/plain": [
       "1.2353639768131852"
      ]
     },
     "execution_count": 83,
     "metadata": {},
     "output_type": "execute_result"
    }
   ],
   "source": [
    "mae"
   ]
  },
  {
   "cell_type": "code",
   "execution_count": 84,
   "id": "0009c17f",
   "metadata": {},
   "outputs": [
    {
     "data": {
      "text/plain": [
       "1.6967590067453338"
      ]
     },
     "execution_count": 84,
     "metadata": {},
     "output_type": "execute_result"
    }
   ],
   "source": [
    "rmse"
   ]
  },
  {
   "cell_type": "code",
   "execution_count": 85,
   "id": "541fd292",
   "metadata": {},
   "outputs": [
    {
     "data": {
      "text/plain": [
       "0.9461975248224451"
      ]
     },
     "execution_count": 85,
     "metadata": {},
     "output_type": "execute_result"
    }
   ],
   "source": [
    "score = r2_score(y_test , y_pred)\n",
    "score"
   ]
  },
  {
   "cell_type": "code",
   "execution_count": 86,
   "id": "a98a09f1",
   "metadata": {},
   "outputs": [],
   "source": [
    "score_a = Score_adr = 1 - (1-score)*(len(y_test)-1)/(len(y_test)-X_test.shape[1]-1)"
   ]
  },
  {
   "cell_type": "code",
   "execution_count": 87,
   "id": "93985730",
   "metadata": {},
   "outputs": [
    {
     "data": {
      "text/plain": [
       "0.9379903675919706"
      ]
     },
     "execution_count": 87,
     "metadata": {},
     "output_type": "execute_result"
    }
   ],
   "source": [
    "score_a"
   ]
  },
  {
   "cell_type": "code",
   "execution_count": 88,
   "id": "84cf4a1c",
   "metadata": {},
   "outputs": [],
   "source": [
    "from sklearn.linear_model import Ridge"
   ]
  },
  {
   "cell_type": "code",
   "execution_count": 89,
   "id": "f98f8572",
   "metadata": {},
   "outputs": [],
   "source": [
    "ridge = Ridge()"
   ]
  },
  {
   "cell_type": "code",
   "execution_count": 90,
   "id": "54d544b3",
   "metadata": {},
   "outputs": [
    {
     "data": {
      "text/plain": [
       "Ridge()"
      ]
     },
     "execution_count": 90,
     "metadata": {},
     "output_type": "execute_result"
    }
   ],
   "source": [
    "ridge.fit(X_train_scaled , y_train)"
   ]
  },
  {
   "cell_type": "code",
   "execution_count": 91,
   "id": "8e56c384",
   "metadata": {},
   "outputs": [],
   "source": [
    "y_pred = ridge.predict(X_test_scaled)"
   ]
  },
  {
   "cell_type": "code",
   "execution_count": 92,
   "id": "6ed97863",
   "metadata": {},
   "outputs": [
    {
     "data": {
      "text/plain": [
       "<seaborn.axisgrid.FacetGrid at 0x255ad086f70>"
      ]
     },
     "execution_count": 92,
     "metadata": {},
     "output_type": "execute_result"
    },
    {
     "data": {
      "image/png": "[encoded data removed]",
      "text/plain": [
       "<Figure size 500x500 with 1 Axes>"
      ]
     },
     "metadata": {},
     "output_type": "display_data"
    }
   ],
   "source": [
    "sns.displot(y_pred - y_test , kde = True)"
   ]
  },
  {
   "cell_type": "code",
   "execution_count": 93,
   "id": "c2da5346",
   "metadata": {},
   "outputs": [],
   "source": [
    "mse = mean_squared_error(y_test , y_pred)\n",
    "mae = mean_absolute_error(y_test , y_pred)\n",
    "rmse = np.sqrt(mse)"
   ]
  },
  {
   "cell_type": "code",
   "execution_count": 94,
   "id": "2ab64f58",
   "metadata": {},
   "outputs": [
    {
     "data": {
      "text/plain": [
       "1.158274984291485"
      ]
     },
     "execution_count": 94,
     "metadata": {},
     "output_type": "execute_result"
    }
   ],
   "source": [
    "mse"
   ]
  },
  {
   "cell_type": "code",
   "execution_count": 95,
   "id": "c1543fd5",
   "metadata": {},
   "outputs": [
    {
     "data": {
      "text/plain": [
       "0.7652112349889268"
      ]
     },
     "execution_count": 95,
     "metadata": {},
     "output_type": "execute_result"
    }
   ],
   "source": [
    "mae"
   ]
  },
  {
   "cell_type": "code",
   "execution_count": 96,
   "id": "3f1c383b",
   "metadata": {},
   "outputs": [
    {
     "data": {
      "text/plain": [
       "1.0762318450461708"
      ]
     },
     "execution_count": 96,
     "metadata": {},
     "output_type": "execute_result"
    }
   ],
   "source": [
    "rmse"
   ]
  },
  {
   "cell_type": "code",
   "execution_count": 97,
   "id": "20fd08cf",
   "metadata": {},
   "outputs": [
    {
     "data": {
      "text/plain": [
       "0.9783542017523751"
      ]
     },
     "execution_count": 97,
     "metadata": {},
     "output_type": "execute_result"
    }
   ],
   "source": [
    "score = r2_score(y_test , y_pred)\n",
    "score"
   ]
  },
  {
   "cell_type": "code",
   "execution_count": 98,
   "id": "43efe3dd",
   "metadata": {},
   "outputs": [],
   "source": [
    "score_a = Score_adr = 1 - (1-score)*(len(y_test)-1)/(len(y_test)-X_test.shape[1]-1)"
   ]
  },
  {
   "cell_type": "code",
   "execution_count": 99,
   "id": "5c5f9c20",
   "metadata": {},
   "outputs": [
    {
     "data": {
      "text/plain": [
       "0.9750523003247713"
      ]
     },
     "execution_count": 99,
     "metadata": {},
     "output_type": "execute_result"
    }
   ],
   "source": [
    "score_a"
   ]
  },
  {
   "cell_type": "code",
   "execution_count": 100,
   "id": "dd17099b",
   "metadata": {},
   "outputs": [],
   "source": [
    "from sklearn.linear_model import ElasticNet"
   ]
  },
  {
   "cell_type": "code",
   "execution_count": 101,
   "id": "ed94f403",
   "metadata": {},
   "outputs": [],
   "source": [
    "elastic = ElasticNet()"
   ]
  },
  {
   "cell_type": "code",
   "execution_count": 102,
   "id": "a1484090",
   "metadata": {},
   "outputs": [
    {
     "data": {
      "text/plain": [
       "ElasticNet()"
      ]
     },
     "execution_count": 102,
     "metadata": {},
     "output_type": "execute_result"
    }
   ],
   "source": [
    "elastic.fit(X_train_scaled, y_train)"
   ]
  },
  {
   "cell_type": "code",
   "execution_count": 103,
   "id": "03486395",
   "metadata": {},
   "outputs": [],
   "source": [
    "y_pred = elastic.predict(X_test_scaled)"
   ]
  },
  {
   "cell_type": "code",
   "execution_count": 104,
   "id": "57fe9826",
   "metadata": {},
   "outputs": [
    {
     "data": {
      "text/plain": [
       "<seaborn.axisgrid.FacetGrid at 0x255adb8c790>"
      ]
     },
     "execution_count": 104,
     "metadata": {},
     "output_type": "execute_result"
    },
    {
     "data": {
      "image/png": "[encoded data removed]",
      "text/plain": [
       "<Figure size 500x500 with 1 Axes>"
      ]
     },
     "metadata": {},
     "output_type": "display_data"
    }
   ],
   "source": [
    "sns.displot(y_pred - y_test , kde = True)"
   ]
  },
  {
   "cell_type": "code",
   "execution_count": 105,
   "id": "b89e1222",
   "metadata": {},
   "outputs": [],
   "source": [
    "mse = mean_squared_error(y_test , y_pred)\n",
    "mae = mean_absolute_error(y_test , y_pred)\n",
    "rmse = np.sqrt(mse)"
   ]
  },
  {
   "cell_type": "code",
   "execution_count": 106,
   "id": "31655c86",
   "metadata": {},
   "outputs": [
    {
     "data": {
      "text/plain": [
       "5.82338263020013"
      ]
     },
     "execution_count": 106,
     "metadata": {},
     "output_type": "execute_result"
    }
   ],
   "source": [
    "mse"
   ]
  },
  {
   "cell_type": "code",
   "execution_count": 107,
   "id": "fc307f2e",
   "metadata": {},
   "outputs": [
    {
     "data": {
      "text/plain": [
       "1.8151355969252638"
      ]
     },
     "execution_count": 107,
     "metadata": {},
     "output_type": "execute_result"
    }
   ],
   "source": [
    "mae"
   ]
  },
  {
   "cell_type": "code",
   "execution_count": 108,
   "id": "ce7fc308",
   "metadata": {},
   "outputs": [
    {
     "data": {
      "text/plain": [
       "2.4131685871899067"
      ]
     },
     "execution_count": 108,
     "metadata": {},
     "output_type": "execute_result"
    }
   ],
   "source": [
    "rmse"
   ]
  },
  {
   "cell_type": "code",
   "execution_count": 109,
   "id": "ba91c74c",
   "metadata": {},
   "outputs": [
    {
     "data": {
      "text/plain": [
       "0.8911728499349912"
      ]
     },
     "execution_count": 109,
     "metadata": {},
     "output_type": "execute_result"
    }
   ],
   "source": [
    "score = r2_score(y_test , y_pred)\n",
    "score"
   ]
  },
  {
   "cell_type": "code",
   "execution_count": 178,
   "id": "9bbd18bb",
   "metadata": {},
   "outputs": [],
   "source": [
    "score_a = Score_adr = 1 - (1-score)*(len(y_test)-1)/(len(y_test)-X_test.shape[1]-1)"
   ]
  },
  {
   "cell_type": "code",
   "execution_count": 179,
   "id": "41c9a5aa",
   "metadata": {},
   "outputs": [
    {
     "data": {
      "text/plain": [
       "0.8745720982301595"
      ]
     },
     "execution_count": 179,
     "metadata": {},
     "output_type": "execute_result"
    }
   ],
   "source": [
    "score_a"
   ]
  },
  {
   "cell_type": "code",
   "execution_count": 182,
   "id": "aa8cc755",
   "metadata": {},
   "outputs": [],
   "source": [
    "import pickle as p"
   ]
  },
  {
   "cell_type": "code",
   "execution_count": 188,
   "id": "ea62ad3c",
   "metadata": {},
   "outputs": [],
   "source": [
    "p.dump(scaler  , open('Scaler.pkl' , 'wb'))\n",
    "p.dump(ridge , open('Ridge.pkl' , 'wb'))"
   ]
  },
  {
   "cell_type": "code",
   "execution_count": 189,
   "id": "1dc52c42",
   "metadata": {},
   "outputs": [],
   "source": [
    "model_scaler = p.load(open('Scaler.pkl','rb'))"
   ]
  },
  {
   "cell_type": "code",
   "execution_count": 197,
   "id": "2e0a9ff5",
   "metadata": {},
   "outputs": [],
   "source": [
    "X_test_scaled = model_scaler.fit_transform(X_test)"
   ]
  },
  {
   "cell_type": "code",
   "execution_count": 198,
   "id": "0f8c3164",
   "metadata": {},
   "outputs": [],
   "source": [
    "model_ridge = p.load(open('Ridge.pkl','rb'))"
   ]
  },
  {
   "cell_type": "code",
   "execution_count": 199,
   "id": "22c65c44",
   "metadata": {},
   "outputs": [
    {
     "data": {
      "text/plain": [
       "Ridge()"
      ]
     },
     "execution_count": 199,
     "metadata": {},
     "output_type": "execute_result"
    }
   ],
   "source": [
    "model_ridge"
   ]
  },
  {
   "cell_type": "code",
   "execution_count": 201,
   "id": "a96a60d1",
   "metadata": {},
   "outputs": [],
   "source": [
    "y_pred = model_ridge.predict(X_test_scaled)"
   ]
  },
  {
   "cell_type": "code",
   "execution_count": 202,
   "id": "4afd3716",
   "metadata": {},
   "outputs": [
    {
     "data": {
      "text/plain": [
       "array([ 7.07508352, 15.96278308, -0.34348317, 20.99339284,  8.89321637,\n",
       "       12.46987098,  5.58551807,  0.13823301, 20.3626885 , -1.0583269 ,\n",
       "        0.91229855,  4.87464468,  9.19134787,  7.90129879, 13.39683663,\n",
       "       13.32673849,  2.53153011, -0.08670093,  0.99128818, -1.15737745,\n",
       "       -1.0721821 ,  4.76740324,  9.56462609, -1.09420378, 15.35476182,\n",
       "        1.32416894, 17.83137651,  1.17619895,  8.36759463, 11.85203771,\n",
       "       10.43637979, 14.08765578, 11.41613412, 21.06454523, -1.00397325,\n",
       "        7.63356382, 11.77006982, -1.80519159,  5.4977279 , -0.32451626,\n",
       "       -1.0296084 ,  6.55001274, 11.8493618 ,  9.18661786, 19.84932665,\n",
       "        1.17721782,  2.75559802, -0.96873725, 15.15611637, -1.51308983,\n",
       "        5.18429879, -0.99811508, 12.59133219, 19.0112636 ,  0.51871606,\n",
       "       10.18097877,  0.8287414 , 16.39268487, -1.14344776,  6.41709722,\n",
       "       29.23617046, -1.37264077,  6.65027437, -1.22964026, 15.10627204,\n",
       "       -2.05203928,  9.25873375, -1.65252156, -0.23224005])"
      ]
     },
     "execution_count": 202,
     "metadata": {},
     "output_type": "execute_result"
    }
   ],
   "source": [
    "y_pred"
   ]
  },
  {
   "cell_type": "code",
   "execution_count": 203,
   "id": "047cef65",
   "metadata": {},
   "outputs": [
    {
     "data": {
      "text/plain": [
       "6       7.2\n",
       "212    19.4\n",
       "98      0.6\n",
       "85     20.3\n",
       "227     9.8\n",
       "       ... \n",
       "79     17.2\n",
       "213     0.0\n",
       "110     9.7\n",
       "218     0.4\n",
       "1       0.4\n",
       "Name: FWI, Length: 69, dtype: float64"
      ]
     },
     "execution_count": 203,
     "metadata": {},
     "output_type": "execute_result"
    }
   ],
   "source": [
    "y_test"
   ]
  },
  {
   "cell_type": "code",
   "execution_count": 204,
   "id": "68ed93b3",
   "metadata": {},
   "outputs": [
    {
     "name": "stderr",
     "output_type": "stream",
     "text": [
      "C:\\ProgramData\\Anaconda3\\lib\\site-packages\\seaborn\\distributions.py:2619: FutureWarning: `distplot` is a deprecated function and will be removed in a future version. Please adapt your code to use either `displot` (a figure-level function with similar flexibility) or `histplot` (an axes-level function for histograms).\n",
      "  warnings.warn(msg, FutureWarning)\n"
     ]
    },
    {
     "data": {
      "text/plain": [
       "<AxesSubplot:xlabel='FWI', ylabel='Density'>"
      ]
     },
     "execution_count": 204,
     "metadata": {},
     "output_type": "execute_result"
    },
    {
     "data": {
      "image/png": "[encoded data removed]",
      "text/plain": [
       "<Figure size 800x550 with 1 Axes>"
      ]
     },
     "metadata": {},
     "output_type": "display_data"
    }
   ],
   "source": [
    "sns.distplot(y_pred - y_test , kde = True)"
   ]
  },
  {
   "cell_type": "code",
   "execution_count": 205,
   "id": "0cfe4f30",
   "metadata": {},
   "outputs": [
    {
     "data": {
      "text/plain": [
       "0.9674668580035233"
      ]
     },
     "execution_count": 205,
     "metadata": {},
     "output_type": "execute_result"
    }
   ],
   "source": [
    "score = r2_score(y_test , y_pred)\n",
    "score"
   ]
  },
  {
   "cell_type": "code",
   "execution_count": null,
   "id": "fc0e2864",
   "metadata": {},
   "outputs": [],
   "source": []
  }
 ],
 "metadata": {
  "kernelspec": {
   "display_name": "Python 3 (ipykernel)",
   "language": "python",
   "name": "python3"
  },
  "language_info": {
   "codemirror_mode": {
    "name": "ipython",
    "version": 3
   },
   "file_extension": ".py",
   "mimetype": "text/x-python",
   "name": "python",
   "nbconvert_exporter": "python",
   "pygments_lexer": "ipython3",
   "version": "3.9.13"
  }
 },
 "nbformat": 4,
 "nbformat_minor": 5
}
